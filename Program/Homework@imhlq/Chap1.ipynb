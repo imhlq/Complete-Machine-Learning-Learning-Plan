{
 "cells": [
  {
   "cell_type": "markdown",
   "metadata": {},
   "source": [
    "# 1. Version space"
   ]
  },
  {
   "cell_type": "markdown",
   "metadata": {},
   "source": [
    "色泽:青 | 根蒂：* |敲声：*\n",
    "\n",
    "色泽:* | 根蒂：卷|敲声：*\n",
    "\n",
    "色泽:* | 根蒂：*|敲声：浊\n",
    "\n",
    "↑\n",
    "\n",
    "色泽:* | 根蒂：卷|敲声：浊\n",
    "\n",
    "色泽:青 | 根蒂：*|敲声：浊\n",
    "\n",
    "色泽:青 | 根蒂：卷|敲声：*\n",
    "\n",
    "\n",
    "↑\n",
    "\n",
    "色泽:青 | 根蒂：卷|敲声：浊"
   ]
  },
  {
   "cell_type": "markdown",
   "metadata": {},
   "source": [
    "# 2.DNF"
   ]
  },
  {
   "cell_type": "markdown",
   "metadata": {},
   "source": [
    "$3* 3* 4+1=37$"
   ]
  },
  {
   "cell_type": "markdown",
   "metadata": {},
   "source": [
    "# 3. Inductive Bias"
   ]
  },
  {
   "cell_type": "markdown",
   "metadata": {},
   "source": [
    "Could be the simpliest one, but lower than certain error threshold"
   ]
  },
  {
   "cell_type": "markdown",
   "metadata": {},
   "source": [
    "# 4. No Free Lunch"
   ]
  },
  {
   "cell_type": "code",
   "execution_count": null,
   "metadata": {},
   "outputs": [],
   "source": []
  },
  {
   "cell_type": "markdown",
   "metadata": {},
   "source": [
    "# 5. Usage"
   ]
  },
  {
   "cell_type": "markdown",
   "metadata": {},
   "source": [
    "No body use ML at all."
   ]
  }
 ],
 "metadata": {
  "kernelspec": {
   "display_name": "Python 3",
   "language": "python",
   "name": "python3"
  },
  "language_info": {
   "codemirror_mode": {
    "name": "ipython",
    "version": 3
   },
   "file_extension": ".py",
   "mimetype": "text/x-python",
   "name": "python",
   "nbconvert_exporter": "python",
   "pygments_lexer": "ipython3",
   "version": "3.7.0"
  }
 },
 "nbformat": 4,
 "nbformat_minor": 2
}
